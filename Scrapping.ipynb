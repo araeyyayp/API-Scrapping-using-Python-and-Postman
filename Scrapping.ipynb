{
 "cells": [
  {
   "cell_type": "code",
   "execution_count": 1,
   "id": "fbcaa16f",
   "metadata": {
    "ExecuteTime": {
     "end_time": "2023-04-21T06:37:25.288624Z",
     "start_time": "2023-04-21T06:37:23.825752Z"
    }
   },
   "outputs": [],
   "source": [
    "import requests\n",
    "import json\n",
    "import pandas as pd\n",
    "import warnings\n",
    "warnings.filterwarnings('ignore')\n",
    "import time\n",
    "import glob\n",
    "import numpy as np\n",
    "import pyodbc\n",
    "import time\n",
    "from sqlalchemy.sql import select\n",
    "# from dask.dataframe import read_sql_query\n",
    "import tqdm\n",
    "import time\n",
    "import json\n",
    "from datetime import date, timedelta"
   ]
  },
  {
   "cell_type": "code",
   "execution_count": 2,
   "id": "034bd3ea",
   "metadata": {
    "ExecuteTime": {
     "end_time": "2023-04-21T06:37:30.700744Z",
     "start_time": "2023-04-21T06:37:30.687749Z"
    }
   },
   "outputs": [
    {
     "name": "stdout",
     "output_type": "stream",
     "text": [
      "Today's date: 2023-05-14\n"
     ]
    }
   ],
   "source": [
    "today = date.today() - timedelta(days=1)\n",
    "print(\"Today's date:\", today)"
   ]
  },
  {
   "cell_type": "code",
   "execution_count": 3,
   "id": "17b64de9",
   "metadata": {
    "ExecuteTime": {
     "end_time": "2023-04-21T06:37:35.096215Z",
     "start_time": "2023-04-21T06:37:35.086214Z"
    }
   },
   "outputs": [],
   "source": [
    "start = time.time()"
   ]
  },
  {
   "cell_type": "code",
   "execution_count": 4,
   "id": "fb413804",
   "metadata": {
    "ExecuteTime": {
     "end_time": "2023-04-21T06:37:37.336294Z",
     "start_time": "2023-04-21T06:37:36.438397Z"
    }
   },
   "outputs": [
    {
     "name": "stdout",
     "output_type": "stream",
     "text": [
      "finish get new credential\n"
     ]
    }
   ],
   "source": [
    "url = \"https://x.net/api/Login/Web\"\n",
    "\n",
    "payload = json.dumps({\n",
    "  \"GetMenu\": True,\n",
    "  \"Name\": \"name\",\n",
    "  \"Password\": \"password\"\n",
    "})\n",
    "headers = {\n",
    "  'Content-Type': 'application/json'\n",
    "}\n",
    "\n",
    "response = requests.request(\"POST\", url, headers=headers, data=payload, verify=False)\n",
    "rs_credential = json.loads(response.text)['Token']\n",
    "rs_credential = 'Bearer ' + rs_credential\n",
    "print('finish get new credential')"
   ]
  },
  {
   "cell_type": "markdown",
   "id": "67cb8233",
   "metadata": {},
   "source": [
    "# Get Invoice Data -> daily df & daily_item_df"
   ]
  },
  {
   "cell_type": "code",
   "execution_count": 6,
   "id": "6461bc28",
   "metadata": {
    "ExecuteTime": {
     "end_time": "2023-04-21T06:37:39.613565Z",
     "start_time": "2023-04-21T06:37:39.595546Z"
    }
   },
   "outputs": [],
   "source": [
    "today = today.strftime(\"%Y-%m-%d\")\n",
    "# today = '2023-05-14'"
   ]
  },
  {
   "cell_type": "code",
   "execution_count": 7,
   "id": "9976462e",
   "metadata": {
    "ExecuteTime": {
     "end_time": "2023-04-21T06:37:40.167843Z",
     "start_time": "2023-04-21T06:37:40.154847Z"
    }
   },
   "outputs": [
    {
     "data": {
      "text/plain": [
       "'2023-05-14'"
      ]
     },
     "execution_count": 7,
     "metadata": {},
     "output_type": "execute_result"
    }
   ],
   "source": [
    "today"
   ]
  },
  {
   "cell_type": "code",
   "execution_count": 8,
   "id": "9e864000",
   "metadata": {
    "ExecuteTime": {
     "end_time": "2023-04-21T06:37:49.715551Z",
     "start_time": "2023-04-21T06:37:40.626374Z"
    },
    "scrolled": true
   },
   "outputs": [
    {
     "name": "stdout",
     "output_type": "stream",
     "text": [
      "2023-05-14\n",
      "13593\n"
     ]
    }
   ],
   "source": [
    "url = \"https://x.net/api/Report/ReportDetail\"\n",
    "## Looping for a certain date range, for now it's updated daily for today's date\n",
    "# for date_temp in [x.strftime(\"%Y-%m-%d\") for x in list(pd.date_range(start=\"2023-03-01\",end=\"2023-03-27\"))][:]:\n",
    "print(today)\n",
    "payload = json.dumps({\n",
    "  \"From\": f\"{today}T00:00:00\",\n",
    "  \"To\": f\"{today}T00:00:00\",\n",
    "  \"SalesID\": \"00000000-0000-0000-0000-000000000000\",\n",
    "  \"CategoryID\": \"00000000-0000-0000-0000-000000000000\",\n",
    "  \"CustomerID\": \"00000000-0000-0000-0000-000000000000\",\n",
    "  \"TypeID\": None,\n",
    "  \"ListIDs\": None,\n",
    "  \"Bin\": False,\n",
    "  \"CurrencyID\": 1,\n",
    "  \"WritePerformanceLog\": False,\n",
    "  \"Complementary\": False,\n",
    "  \"CreatorID\": \"00000000-0000-0000-0000-000000000000\",\n",
    "  \"NoteVisible\": False,\n",
    "  \"PageNumber\": 1,\n",
    "  \"RowCount\": 100000,\n",
    "  \"ExportPageNumber\": 1,\n",
    "  \"ExportRowCount\": 100000,\n",
    "  \"SortBy\": False\n",
    "})\n",
    "headers = {\n",
    "  'Authorization': rs_credential,\n",
    "  'Content-Type': 'application/json'\n",
    "}\n",
    "\n",
    "response = requests.request(\"POST\", url, headers=headers, data=payload, verify=False)\n",
    "\n",
    "result = json.loads(response.text)\n",
    "print(len(result['Data']))\n",
    "\n",
    "list_all = []\n",
    "list_item_all = []\n",
    "col_header = []\n",
    "col_header_item = ['id']\n",
    "\n",
    "for i in range(0, len(result['Data'])):\n",
    "    json_temp = result['Data'][i]\n",
    "    list_temp = []\n",
    "\n",
    "    for j in json_temp.keys():\n",
    "        if (type(json_temp[j]) == str) or (type(json_temp[j]) == int) or (type(json_temp[j]) == float):\n",
    "            list_temp.append(json_temp[j])\n",
    "            if j not in col_header:\n",
    "                col_header.append(j)\n",
    "        else:\n",
    "            pass\n",
    "\n",
    "    list_all.append(list_temp)\n",
    "\n",
    "\n",
    "    # Ini untuk informasi item\n",
    "    for shop_item in json_temp['Items']:\n",
    "        # Ini untuk infomasi item\n",
    "        list_shop_item = []\n",
    "        list_shop_item.append(json_temp['ID'])\n",
    "        for k in shop_item:        \n",
    "            if ((type(shop_item[k]) == str) or (type(shop_item[k]) == int) or (type(shop_item[k]) == float)) and (k!='UOMName'):\n",
    "                list_shop_item.append(shop_item[k])\n",
    "                if k not in col_header_item:\n",
    "                    col_header_item.append(k)\n",
    "        list_item_all.append(list_shop_item)\n",
    "\n",
    "# Export aggregate data    \n",
    "daily_df = pd.DataFrame(list_all, columns = col_header) \n",
    "date_info = daily_df['Date'].unique()[0][:10]\n",
    "daily_df.to_csv(f'data/csv/summary/{date_info}.csv', index=False)\n",
    "\n",
    "# Export item data\n",
    "daily_item_df = pd.DataFrame(list_item_all, columns = col_header_item) \n",
    "daily_item_df.to_csv(f'data/csv/item/{date_info}.csv', index=False)\n",
    "\n",
    "\n",
    "# Serializing json\n",
    "json_object = json.dumps(result, indent=4)\n",
    "\n",
    "# Writing JSON\n",
    "with open(f\"data/json/{date_info}.json\", \"w\") as outfile:\n",
    "    outfile.write(json_object)\n",
    "\n",
    "# time.sleep(5)"
   ]
  },
  {
   "cell_type": "markdown",
   "id": "652b84d7",
   "metadata": {},
   "source": [
    "# Get User -> df_id"
   ]
  },
  {
   "cell_type": "code",
   "execution_count": 9,
   "id": "066d3780",
   "metadata": {
    "ExecuteTime": {
     "end_time": "2023-04-21T06:37:51.374898Z",
     "start_time": "2023-04-21T06:37:51.069120Z"
    }
   },
   "outputs": [
    {
     "name": "stdout",
     "output_type": "stream",
     "text": [
      "2023-05-14\n"
     ]
    }
   ],
   "source": [
    "url = 'https://x.net/api/Contact/CustomerList'\n",
    "# for date_temp in [x.strftime(\"%Y-%m-%d\") for x in list(pd.date_range(start=\"2023-03-13\",end=\"2023-03-27\"))][:]:\n",
    "print(today)\n",
    "payload = json.dumps({\"RowCount\":1000,\n",
    "                      \"ExportRowCount\":100000,\n",
    "                      \"ExportPageNumber\":1,\n",
    "                      \"From\":f\"{today}T00:00:00.000\",\n",
    "                      \"To\":f\"{today}T00:00:00.000\",\n",
    "                      \"ContactStateID\":1,\n",
    "                      \"PageNumber\":1})\n",
    "headers = {\n",
    "  'Authorization': rs_credential,\n",
    "  'Content-Type': 'application/json'\n",
    "}\n",
    "\n",
    "response = requests.request(\"POST\", url, headers=headers, data=payload, verify=False)\n",
    "\n",
    "result = json.loads(response.text)\n",
    "\n",
    "data_temp = result['Data']\n",
    "id_temp = []\n",
    "id_header = ['ID', 'Name', 'Code', 'Mobile', 'Email', 'JoinDate', 'BirthDate', 'FirstName', 'LastName', 'NationalIDNumber']\n",
    "\n",
    "for item in data_temp:\n",
    "    list_temp = []\n",
    "    for j in item.keys():\n",
    "        list_temp.append(item[j])\n",
    "    id_temp.append(list_temp)\n",
    "\n",
    "df_id = pd.DataFrame(id_temp, columns = id_header)\n",
    "df_id.to_csv(f'data/id/{today}.csv')\n",
    "# time.sleep(3)"
   ]
  },
  {
   "cell_type": "markdown",
   "id": "352d17a4",
   "metadata": {},
   "source": [
    "# Get Report Summary -> df_rs"
   ]
  },
  {
   "cell_type": "code",
   "execution_count": 10,
   "id": "a54e6a2e",
   "metadata": {
    "ExecuteTime": {
     "end_time": "2023-04-21T06:37:56.329094Z",
     "start_time": "2023-04-21T06:37:52.957755Z"
    }
   },
   "outputs": [
    {
     "name": "stdout",
     "output_type": "stream",
     "text": [
      "2023-05-14\n"
     ]
    }
   ],
   "source": [
    "url = \"https://x.net/api/Report/ReportSummary\"\n",
    "# for date_temp in [x.strftime(\"%Y-%m-%d\") for x in list(pd.date_range(start=\"2023-3-13\",end=\"2023-3-27\"))][:]:\n",
    "print(today)\n",
    "payload = json.dumps({\n",
    "  \"CreatorID\": \"00000000-0000-0000-0000-000000000000\",\n",
    "  \"CurrencyID\": 0,\n",
    "  \"CustomerID\": \"00000000-0000-0000-0000-000000000000\",\n",
    "  \"ExportPageNumber\": 1,\n",
    "  \"ExportRowCount\": 100000000,\n",
    "  \"ListIDs\": None,\n",
    "  \"PageNumber\": 1,\n",
    "  \"RowCount\": 100000000,\n",
    "  \"From\":f\"{today}T00:00:00.000\",\n",
    "  \"To\":f\"{today}T00:00:00.000\",\n",
    "  \"isCreated\": False\n",
    "})\n",
    "headers = {\n",
    "  'Authorization': rs_credential,\n",
    "  'Content-Type': 'application/json'\n",
    "}\n",
    "\n",
    "response = requests.request(\"POST\", url, headers=headers, data=payload, verify=False)\n",
    "result = json.loads(response.text)\n",
    "\n",
    "data_temp = result['Data']\n",
    "id_temp = []\n",
    "id_header = ['ID','EntityName', 'Number',  'Date','Created','CustomerName' , 'CustomerID', 'SalesName', 'Surcharge', 'Sales','Tax', 'PaymentStateID', 'SalesNTax','SurchargeAmount',  'SalesNSurcharge', 'SalesOrderNumber' ,'Cost', 'PaymentStateString','EntityID','SalesID', 'CustomerCode' ]\n",
    "\n",
    "for item in data_temp:\n",
    "    list_temp = []\n",
    "    for j in item.keys():\n",
    "        list_temp.append(item[j])\n",
    "    id_temp.append(list_temp)\n",
    "\n",
    "df_rs = pd.DataFrame(id_temp, columns = id_header)\n",
    "df_rs.to_csv(f'data/csv/rs/{today}.csv')\n",
    "# time.sleep(3)"
   ]
  },
  {
   "cell_type": "markdown",
   "id": "04a7681d",
   "metadata": {},
   "source": [
    "# Get Inventory"
   ]
  },
  {
   "cell_type": "code",
   "execution_count": 11,
   "id": "b0fc8647",
   "metadata": {
    "ExecuteTime": {
     "end_time": "2023-04-21T06:38:04.457093Z",
     "start_time": "2023-04-21T06:37:56.329094Z"
    }
   },
   "outputs": [],
   "source": [
    "url = \"https://x.net/api/Inventory/OutletProductList\"\n",
    "\n",
    "payload = json.dumps({\n",
    "  \"Date\": f\"{today}T10:16:39.7756148\",\n",
    "  \"Discontinued\": False,\n",
    "  \"QuantityFrom\": 1,\n",
    "  \"RowCount\": 10000,\n",
    "  \"isFilterNow\": True,\n",
    "  \"WithOutZero\": True,\n",
    "  \"PageNumber\": 1,\n",
    "  \"From\": \"0001-01-01T00:00:00\",\n",
    "  \"To\": \"0001-01-01T00:00:00\"\n",
    "})\n",
    "headers = {\n",
    "  'Authorization': rs_credential,\n",
    "  'Content-Type': 'application/json'\n",
    "}\n",
    "\n",
    "response = requests.request(\"POST\", url, headers=headers, data=payload, verify=False)\n",
    "\n",
    "result = json.loads(response.text)\n",
    "data_temp = result['Data']\n",
    "\n",
    "list_product = []\n",
    "for item in data_temp:\n",
    "    for outlet in item['Outlets']:\n",
    "        list_outlet = [item['ID'], item['Name'], item['Code'], item['Total'], item['UOMName']]\n",
    "        for detail in outlet.values():\n",
    "            list_outlet.append(detail)\n",
    "        list_product.append(list_outlet)\n",
    "        \n",
    "df_inventory = pd.DataFrame(list_product, columns = ['ID','ProductName','Code','Total','UOMName','EntityID','StoreName','Qty','In','Out','QtyNow'])\n",
    "df_inventory['date'] = today\n",
    "df_inventory['date'] = pd.to_datetime(df_inventory['date'])"
   ]
  },
  {
   "cell_type": "markdown",
   "id": "dae29360",
   "metadata": {},
   "source": [
    "# Insert Database"
   ]
  },
  {
   "cell_type": "markdown",
   "id": "031b0f1c",
   "metadata": {},
   "source": [
    "## daily item df"
   ]
  },
  {
   "cell_type": "code",
   "execution_count": 12,
   "id": "ce1702e9",
   "metadata": {
    "ExecuteTime": {
     "end_time": "2023-04-21T06:38:06.409622Z",
     "start_time": "2023-04-21T06:38:05.657973Z"
    }
   },
   "outputs": [],
   "source": [
    "# Set up database information\n",
    "server = 'server'\n",
    "database = 'databasename'\n",
    "\n",
    "conn_str = (\"Driver={SQL Server};Server=server;Database=database;Trusted_Connection=yes;\")\n",
    "\n",
    "conn = pyodbc.connect(conn_str)\n",
    "\n",
    "# conn.setdecoding(pyodbc.SQL_CHAR, encoding='latin1')\n",
    "# conn.setencoding('latin1')\n",
    "\n",
    "cursor = conn.cursor()"
   ]
  },
  {
   "cell_type": "code",
   "execution_count": 13,
   "id": "334809fa",
   "metadata": {
    "ExecuteTime": {
     "end_time": "2023-04-21T06:38:06.424961Z",
     "start_time": "2023-04-21T06:38:06.411619Z"
    }
   },
   "outputs": [],
   "source": [
    "# cursor.execute('DELETE FROM dbo.rs_invoice')"
   ]
  },
  {
   "cell_type": "code",
   "execution_count": 14,
   "id": "31404bc6",
   "metadata": {
    "ExecuteTime": {
     "end_time": "2023-04-21T06:38:09.704211Z",
     "start_time": "2023-04-21T06:38:09.639289Z"
    }
   },
   "outputs": [
    {
     "name": "stdout",
     "output_type": "stream",
     "text": [
      "(29923, 10)\n",
      "(29923, 15)\n"
     ]
    }
   ],
   "source": [
    "print(daily_item_df.shape)\n",
    "daily_item_df = pd.merge(daily_item_df, daily_df[['ID','PaymentStateLabel','EntityName','Date','Created','CustomerNameDisplay']], left_on='id', right_on='ID', how='left').drop('ID', axis=1)\n",
    "print(daily_item_df.shape)"
   ]
  },
  {
   "cell_type": "code",
   "execution_count": 15,
   "id": "276765f6",
   "metadata": {},
   "outputs": [],
   "source": [
    "# # Check is the data already in db or not\n",
    "# query = \"delete from rs_agg_daily where date = '{}'\".format(today)\n",
    "\n",
    "# cursor.execute(query)\n",
    "# conn.commit()"
   ]
  },
  {
   "cell_type": "code",
   "execution_count": 16,
   "id": "a499dc69",
   "metadata": {
    "ExecuteTime": {
     "end_time": "2023-04-21T07:24:49.704300Z",
     "start_time": "2023-04-21T06:38:10.771847Z"
    }
   },
   "outputs": [],
   "source": [
    "insert_query = \"INSERT INTO dbo.rs_invoice (id,Name,Code,Quantity,UnitCost,UnitPrice,Discount,Total,Index_id,DiscountAmount,PaymentStateLabel,EntityName,Date,Created,CustomerNameDisplay) VALUES (?,?,?,?,?,?,?,?,?,?,?,?,?,?,?);\"\n",
    "params = [(row['id'],row['Name'],row['Code'],row['Quantity'],row['UnitCost'],row['UnitPrice'], row['Discount'],row['Total'],row['Index'],row['DiscountAmount'],row['PaymentStateLabel'],row['EntityName'],row['Date'],row['Created'],row['CustomerNameDisplay']) for i, row in daily_item_df.iterrows()]\n",
    "    \n",
    "cursor.executemany(insert_query, params)\n",
    "conn.commit()"
   ]
  },
  {
   "cell_type": "markdown",
   "id": "14cb16ee",
   "metadata": {},
   "source": [
    "## df_id"
   ]
  },
  {
   "cell_type": "code",
   "execution_count": 17,
   "id": "a20f1537",
   "metadata": {
    "ExecuteTime": {
     "end_time": "2023-04-21T07:24:49.725434Z",
     "start_time": "2023-04-21T07:24:49.704300Z"
    }
   },
   "outputs": [],
   "source": [
    "df_id['BirthDate'] = df_id['BirthDate'].str.replace('0001-01-01T00:00:00','1800-01-01')"
   ]
  },
  {
   "cell_type": "code",
   "execution_count": 18,
   "id": "8a43870f",
   "metadata": {
    "ExecuteTime": {
     "end_time": "2023-04-21T07:25:19.398968Z",
     "start_time": "2023-04-21T07:24:49.725434Z"
    }
   },
   "outputs": [],
   "source": [
    "if df_id.shape[0] == 0:\n",
    "    print('no data')\n",
    "else:\n",
    "    insert_query = \"INSERT INTO dbo.rs_user (ID,Name,Code,Mobile,Email,JoinDate,BirthDate,FirstName,LastName,NationalIDNumber) VALUES (?,?,?,?,?,?,?,?,?,?);\"\n",
    "    params = [(row['ID'],row['Name'],row['Code'],row['Mobile'],row['Email'],row['JoinDate'], row['BirthDate'],row['FirstName'],row['LastName'],row['NationalIDNumber']) for i, row in df_id.iterrows()]\n",
    "\n",
    "    cursor.executemany(insert_query, params)\n",
    "    conn.commit()"
   ]
  },
  {
   "cell_type": "markdown",
   "id": "6a2a633b",
   "metadata": {},
   "source": [
    "## df_rs"
   ]
  },
  {
   "cell_type": "code",
   "execution_count": 19,
   "id": "6f9a9365",
   "metadata": {
    "ExecuteTime": {
     "end_time": "2023-04-21T07:45:41.175896Z",
     "start_time": "2023-04-21T07:25:19.400508Z"
    }
   },
   "outputs": [],
   "source": [
    "insert_query = \"INSERT INTO dbo.rs_report_summary (ID,EntityName,Number_id,Date,Created,CustomerName,CustomerID,SalesName,Surcharge,Sales, Tax, PaymentStateID, SalesNTax, SurchargeAmount, SalesNSurcharge, SalesOrderNumber, Cost, PaymentStateString, EntityID, SalesID, CustomerCode) VALUES (?,?,?,?,?,?,?,?,?,?, ?,?,?,?,?,?,?,?,?,?, ?);\"\n",
    "params = [(row['ID'],row['EntityName'],row['Number'],row['Date'],row['Created'],row['CustomerName'], row['CustomerID'],row['SalesName'],row['Surcharge'],row['Sales'],row['Tax'],row['PaymentStateID'],row['SalesNTax'],row['SurchargeAmount'],row['SalesNSurcharge'],row['SalesOrderNumber'],row['Cost'],row['PaymentStateString'],row['EntityID'],row['SalesID'],row['CustomerCode']) for i, row in df_rs.iterrows()]\n",
    "\n",
    "cursor.executemany(insert_query, params)\n",
    "conn.commit()"
   ]
  },
  {
   "cell_type": "markdown",
   "id": "f66602d8",
   "metadata": {},
   "source": [
    "## df_inventory"
   ]
  },
  {
   "cell_type": "code",
   "execution_count": 20,
   "id": "e01a05ce",
   "metadata": {
    "ExecuteTime": {
     "start_time": "2023-04-21T06:38:13.378Z"
    }
   },
   "outputs": [],
   "source": [
    "insert_query = \"INSERT INTO dbo.rs_inventory (id,product_name,code,total,uom,entity_id,name,qty,qty_in,qty_out, qty_now, date) VALUES (?,?,?,?,?,?,?,?,?,?,?,?);\"\n",
    "params = [(row['ID'],row['ProductName'],row['Code'],row['Total'],row['UOMName'],row['EntityID'], row['StoreName'],row['Qty'],row['In'],row['Out'],row['QtyNow'],row['date']) for i, row in df_inventory.iterrows()]\n",
    "\n",
    "cursor.executemany(insert_query, params)\n",
    "conn.commit()"
   ]
  },
  {
   "cell_type": "markdown",
   "id": "6e77e816",
   "metadata": {},
   "source": [
    "## df_agg"
   ]
  },
  {
   "cell_type": "code",
   "execution_count": 21,
   "id": "06b95234",
   "metadata": {},
   "outputs": [],
   "source": [
    "daily_item_df['Total'] = daily_item_df['Quantity']*daily_item_df['UnitPrice']"
   ]
  },
  {
   "cell_type": "code",
   "execution_count": 22,
   "id": "bd6916d0",
   "metadata": {
    "scrolled": true
   },
   "outputs": [],
   "source": [
    "df_agg = daily_item_df.groupby(['Date','EntityName','Code'])[['Quantity','Total']].sum().reset_index()"
   ]
  },
  {
   "cell_type": "code",
   "execution_count": 23,
   "id": "ed0066de",
   "metadata": {},
   "outputs": [
    {
     "data": {
      "text/html": [
       "<div>\n",
       "<style scoped>\n",
       "    .dataframe tbody tr th:only-of-type {\n",
       "        vertical-align: middle;\n",
       "    }\n",
       "\n",
       "    .dataframe tbody tr th {\n",
       "        vertical-align: top;\n",
       "    }\n",
       "\n",
       "    .dataframe thead th {\n",
       "        text-align: right;\n",
       "    }\n",
       "</style>\n",
       "<table border=\"1\" class=\"dataframe\">\n",
       "  <thead>\n",
       "    <tr style=\"text-align: right;\">\n",
       "      <th></th>\n",
       "      <th>Date</th>\n",
       "      <th>EntityName</th>\n",
       "      <th>Code</th>\n",
       "      <th>Quantity</th>\n",
       "      <th>Total</th>\n",
       "    </tr>\n",
       "  </thead>\n",
       "  <tbody>\n",
       "    <tr>\n",
       "      <th>0</th>\n",
       "      <td>2023-05-14T00:00:00</td>\n",
       "      <td>ANTAPANI</td>\n",
       "      <td>0505160002</td>\n",
       "      <td>1</td>\n",
       "      <td>10000</td>\n",
       "    </tr>\n",
       "    <tr>\n",
       "      <th>1</th>\n",
       "      <td>2023-05-14T00:00:00</td>\n",
       "      <td>ANTAPANI</td>\n",
       "      <td>300875127674</td>\n",
       "      <td>1</td>\n",
       "      <td>347000</td>\n",
       "    </tr>\n",
       "    <tr>\n",
       "      <th>2</th>\n",
       "      <td>2023-05-14T00:00:00</td>\n",
       "      <td>ANTAPANI</td>\n",
       "      <td>4008976682417</td>\n",
       "      <td>2</td>\n",
       "      <td>530000</td>\n",
       "    </tr>\n",
       "    <tr>\n",
       "      <th>3</th>\n",
       "      <td>2023-05-14T00:00:00</td>\n",
       "      <td>ANTAPANI</td>\n",
       "      <td>4391852988117</td>\n",
       "      <td>1</td>\n",
       "      <td>14500</td>\n",
       "    </tr>\n",
       "    <tr>\n",
       "      <th>4</th>\n",
       "      <td>2023-05-14T00:00:00</td>\n",
       "      <td>ANTAPANI</td>\n",
       "      <td>4801010561309</td>\n",
       "      <td>2</td>\n",
       "      <td>11000</td>\n",
       "    </tr>\n",
       "  </tbody>\n",
       "</table>\n",
       "</div>"
      ],
      "text/plain": [
       "                  Date EntityName           Code  Quantity   Total\n",
       "0  2023-05-14T00:00:00   ANTAPANI     0505160002         1   10000\n",
       "1  2023-05-14T00:00:00   ANTAPANI   300875127674         1  347000\n",
       "2  2023-05-14T00:00:00   ANTAPANI  4008976682417         2  530000\n",
       "3  2023-05-14T00:00:00   ANTAPANI  4391852988117         1   14500\n",
       "4  2023-05-14T00:00:00   ANTAPANI  4801010561309         2   11000"
      ]
     },
     "execution_count": 23,
     "metadata": {},
     "output_type": "execute_result"
    }
   ],
   "source": [
    "df_agg.head()\n",
    "#example of agg data "
   ]
  },
  {
   "cell_type": "markdown",
   "id": "c24b5fdc",
   "metadata": {},
   "source": [
    "## Insert to DB "
   ]
  },
  {
   "cell_type": "code",
   "execution_count": null,
   "id": "851628ce",
   "metadata": {},
   "outputs": [],
   "source": [
    "insert_query = \"INSERT INTO dbo.rs_agg_daily (Date, EntityName, Code, Quantity, Total) VALUES (?,?,?,?,?);\"\n",
    "params = [(row['Date'],row['EntityName'],row['Code'],row['Quantity'],row['Total']) for i, row in df_agg.iterrows()]\n",
    "\n",
    "cursor.executemany(insert_query, params)\n",
    "conn.commit()"
   ]
  },
  {
   "cell_type": "code",
   "execution_count": 25,
   "id": "8d33f0ca",
   "metadata": {
    "ExecuteTime": {
     "start_time": "2023-04-21T06:38:14.862Z"
    }
   },
   "outputs": [],
   "source": [
    "end = time.time()"
   ]
  },
  {
   "cell_type": "code",
   "execution_count": 26,
   "id": "831d4856",
   "metadata": {
    "ExecuteTime": {
     "start_time": "2023-04-21T06:38:15.113Z"
    }
   },
   "outputs": [
    {
     "name": "stdout",
     "output_type": "stream",
     "text": [
      "255.18994116783142\n"
     ]
    }
   ],
   "source": [
    "print(end - start)"
   ]
  },
  {
   "cell_type": "code",
   "execution_count": 27,
   "id": "b8fb6b9d",
   "metadata": {
    "ExecuteTime": {
     "end_time": "2023-04-04T03:50:30.291937Z",
     "start_time": "2023-04-04T03:50:30.198908Z"
    }
   },
   "outputs": [
    {
     "data": {
      "text/plain": [
       "4.253165686130524"
      ]
     },
     "execution_count": 27,
     "metadata": {},
     "output_type": "execute_result"
    }
   ],
   "source": [
    "(end - start)/60"
   ]
  },
  {
   "cell_type": "code",
   "execution_count": 28,
   "id": "bdb17aee",
   "metadata": {},
   "outputs": [
    {
     "ename": "NameError",
     "evalue": "name 'stop' is not defined",
     "output_type": "error",
     "traceback": [
      "\u001b[1;31m---------------------------------------------------------------------------\u001b[0m",
      "\u001b[1;31mNameError\u001b[0m                                 Traceback (most recent call last)",
      "\u001b[1;32m<ipython-input-28-4f76a9dad686>\u001b[0m in \u001b[0;36m<module>\u001b[1;34m\u001b[0m\n\u001b[1;32m----> 1\u001b[1;33m \u001b[0mstop\u001b[0m\u001b[1;33m\u001b[0m\u001b[1;33m\u001b[0m\u001b[0m\n\u001b[0m",
      "\u001b[1;31mNameError\u001b[0m: name 'stop' is not defined"
     ]
    }
   ],
   "source": [
    "----stop----"
   ]
  }
 ],
 "metadata": {
  "kernelspec": {
   "display_name": "Python 3 (ipykernel)",
   "language": "python",
   "name": "python3"
  },
  "language_info": {
   "codemirror_mode": {
    "name": "ipython",
    "version": 3
   },
   "file_extension": ".py",
   "mimetype": "text/x-python",
   "name": "python",
   "nbconvert_exporter": "python",
   "pygments_lexer": "ipython3",
   "version": "3.9.12"
  },
  "toc": {
   "base_numbering": 1,
   "nav_menu": {},
   "number_sections": true,
   "sideBar": true,
   "skip_h1_title": false,
   "title_cell": "Table of Contents",
   "title_sidebar": "Contents",
   "toc_cell": false,
   "toc_position": {
    "height": "calc(100% - 180px)",
    "left": "10px",
    "top": "150px",
    "width": "237.535px"
   },
   "toc_section_display": true,
   "toc_window_display": true
  }
 },
 "nbformat": 4,
 "nbformat_minor": 5
}
